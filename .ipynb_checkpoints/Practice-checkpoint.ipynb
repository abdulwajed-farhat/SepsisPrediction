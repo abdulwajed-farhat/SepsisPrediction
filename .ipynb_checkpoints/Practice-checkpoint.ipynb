{
 "cells": [
  {
   "cell_type": "code",
   "execution_count": 1,
   "id": "3016b8fd-b162-4498-be66-8dbee9e318b0",
   "metadata": {},
   "outputs": [
    {
     "name": "stdout",
     "output_type": "stream",
     "text": [
      "problem freeing buf\n"
     ]
    },
    {
     "ename": "RuntimeError",
     "evalue": "overflowed buffer in push()",
     "output_type": "error",
     "traceback": [
      "\u001b[0;31m---------------------------------------------------------------------------\u001b[0m",
      "\u001b[0;31mRuntimeError\u001b[0m                              Traceback (most recent call last)",
      "Cell \u001b[0;32mIn[1], line 9\u001b[0m\n\u001b[1;32m      7\u001b[0m \u001b[38;5;66;03m# Prepare signature calculation up to level 2\u001b[39;00m\n\u001b[1;32m      8\u001b[0m sig_level \u001b[38;5;241m=\u001b[39m \u001b[38;5;241m2\u001b[39m\n\u001b[0;32m----> 9\u001b[0m sig_stream \u001b[38;5;241m=\u001b[39m iisignature\u001b[38;5;241m.\u001b[39mprepare(path\u001b[38;5;241m.\u001b[39mshape[\u001b[38;5;241m1\u001b[39m], sig_level)\n\u001b[1;32m     11\u001b[0m \u001b[38;5;66;03m# Calculate the signature\u001b[39;00m\n\u001b[1;32m     12\u001b[0m signature \u001b[38;5;241m=\u001b[39m iisignature\u001b[38;5;241m.\u001b[39msig(path, sig_stream)\n",
      "\u001b[0;31mRuntimeError\u001b[0m: overflowed buffer in push()"
     ]
    }
   ],
   "source": [
    "import iisignature\n",
    "import numpy as np\n",
    "\n",
    "# Define a simple 2D path with 3 time points\n",
    "path = np.array([[0,0],[1,0],[1,1]])\n",
    "\n",
    "# Prepare signature calculation up to level 2\n",
    "sig_level = 2\n",
    "sig_stream = iisignature.prepare(path.shape[1], sig_level)\n",
    "\n",
    "# Calculate the signature\n",
    "signature = iisignature.sig(path, sig_stream)\n",
    "\n",
    "print(\"Signature up to level 2:\", signature)\n"
   ]
  },
  {
   "cell_type": "code",
   "execution_count": 43,
   "id": "29aa059e-aca2-4510-a004-2a8936775f40",
   "metadata": {},
   "outputs": [
    {
     "name": "stdout",
     "output_type": "stream",
     "text": [
      "Found existing installation: iisignature 0.24\n",
      "Uninstalling iisignature-0.24:\n",
      "  Successfully uninstalled iisignature-0.24\n",
      "Note: you may need to restart the kernel to use updated packages.\n"
     ]
    }
   ],
   "source": [
    "pip uninstall -y iisignature"
   ]
  },
  {
   "cell_type": "code",
   "execution_count": 3,
   "id": "35f276dd-3a0c-45ca-8dab-ed7be5babbc4",
   "metadata": {},
   "outputs": [
    {
     "name": "stdout",
     "output_type": "stream",
     "text": [
      "Collecting iisignature\n",
      "  Downloading iisignature-0.24.tar.gz (1.3 MB)\n",
      "\u001b[2K     \u001b[90m━━━━━━━━━━━━━━━━━━━━━━━━━━━━━━━━━━━━━━━━\u001b[0m \u001b[32m1.3/1.3 MB\u001b[0m \u001b[31m8.3 MB/s\u001b[0m eta \u001b[36m0:00:00\u001b[0m\n",
      "  Preparing metadata (setup.py) ... \u001b[?25ldone\n",
      "\u001b[?25hRequirement already satisfied: numpy>1.7 in /opt/anaconda3/lib/python3.12/site-packages (from iisignature) (2.3.1)\n",
      "Building wheels for collected packages: iisignature\n",
      "  Building wheel for iisignature (setup.py) ... \u001b[?25done\n",
      "\u001b[?25h  Created wheel for iisignature: filename=iisignature-0.24-cp312-cp312-macosx_11_0_arm64.whl size=1382382 sha256=30e4693060faf09019a94c580987680332a3e2d42eb067078065d67f0d88d932\n",
      "  Stored in directory: /private/var/folders/zc/cx2984q17xs9k62vy4ms148w0000gn/T/pip-ephem-wheel-cache-30z0xnbx/wheels/7d/b3/8c/168fb7d3b31255a501dea7fa1f5e5098e63ec61a786eeb0156\n",
      "Successfully built iisignature\n",
      "Installing collected packages: iisignature\n",
      "Successfully installed iisignature-0.24\n",
      "Note: you may need to restart the kernel to use updated packages.\n"
     ]
    }
   ],
   "source": [
    "pip install --no-cache-dir iisignature"
   ]
  },
  {
   "cell_type": "code",
   "execution_count": null,
   "id": "f10bcf28-08ad-455c-b887-16d25b22d641",
   "metadata": {},
   "outputs": [],
   "source": []
  }
 ],
 "metadata": {
  "kernelspec": {
   "display_name": "Python [conda env:base] *",
   "language": "python",
   "name": "conda-base-py"
  },
  "language_info": {
   "codemirror_mode": {
    "name": "ipython",
    "version": 3
   },
   "file_extension": ".py",
   "mimetype": "text/x-python",
   "name": "python",
   "nbconvert_exporter": "python",
   "pygments_lexer": "ipython3",
   "version": "3.12.7"
  }
 },
 "nbformat": 4,
 "nbformat_minor": 5
}
